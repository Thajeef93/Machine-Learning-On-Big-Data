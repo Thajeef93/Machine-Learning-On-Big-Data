{
  "cells": [
    {
      "cell_type": "markdown",
      "metadata": {
        "id": "VkeivF4nQL-s"
      },
      "source": [
        "# **Machine Learning on Big Data Using UNSW Datasets**  "
      ]
    },
    {
      "cell_type": "markdown",
      "metadata": {
        "id": "HoPC7RKHQmPc"
      },
      "source": [
        "# **Initiate and Configure Spark**"
      ]
    },
    {
      "cell_type": "code",
      "execution_count": null,
      "metadata": {
        "colab": {
          "base_uri": "https://localhost:8080/"
        },
        "id": "blZncMyvP-VZ",
        "outputId": "0398a4f2-6ae7-40e2-b06b-604f9fd4a955"
      },
      "outputs": [
        {
          "name": "stdout",
          "output_type": "stream",
          "text": [
            "Looking in indexes: https://pypi.org/simple, https://us-python.pkg.dev/colab-wheels/public/simple/\n",
            "Collecting pyspark\n",
            "  Downloading pyspark-3.3.1.tar.gz (281.4 MB)\n",
            "\u001b[K     |████████████████████████████████| 281.4 MB 29 kB/s \n",
            "\u001b[?25hCollecting py4j==0.10.9.5\n",
            "  Downloading py4j-0.10.9.5-py2.py3-none-any.whl (199 kB)\n",
            "\u001b[K     |████████████████████████████████| 199 kB 68.3 MB/s \n",
            "\u001b[?25hBuilding wheels for collected packages: pyspark\n",
            "  Building wheel for pyspark (setup.py) ... \u001b[?25l\u001b[?25hdone\n",
            "  Created wheel for pyspark: filename=pyspark-3.3.1-py2.py3-none-any.whl size=281845512 sha256=dd82c7d0bf0e64cab2d8bfa497dcdd7f20beb99d96d07db6d90261e12cc93f18\n",
            "  Stored in directory: /root/.cache/pip/wheels/43/dc/11/ec201cd671da62fa9c5cc77078235e40722170ceba231d7598\n",
            "Successfully built pyspark\n",
            "Installing collected packages: py4j, pyspark\n",
            "Successfully installed py4j-0.10.9.5 pyspark-3.3.1\n"
          ]
        }
      ],
      "source": [
        "#Installing Pyspark\n",
        "!pip3 install pyspark"
      ]
    },
    {
      "cell_type": "code",
      "execution_count": null,
      "metadata": {
        "id": "XTmvQKlJQteM"
      },
      "outputs": [],
      "source": [
        "#Setup a sparksession\n",
        "from pyspark.sql import SparkSession \n",
        "spark = SparkSession.builder \\\n",
        "                    .master(\"local[*]\") \\\n",
        "                    .appName(\"UNSW_Datasheets\") \\\n",
        "                    .getOrCreate()"
      ]
    },
    {
      "cell_type": "markdown",
      "metadata": {
        "id": "iaH0mtxIQ2Dw"
      },
      "source": [
        "# **Mount Drive**"
      ]
    },
    {
      "cell_type": "code",
      "execution_count": null,
      "metadata": {
        "colab": {
          "base_uri": "https://localhost:8080/"
        },
        "id": "xqGQ-_fyQxcj",
        "outputId": "adb07431-85ad-499f-f3d7-24f8804a3133"
      },
      "outputs": [
        {
          "name": "stdout",
          "output_type": "stream",
          "text": [
            "Mounted at /content/drive\n"
          ]
        }
      ],
      "source": [
        "#Upload the dataset file to the drive\n",
        "#By mounting the drive you can use a dataset file from Google Drive.\n",
        "\n",
        "from google.colab import drive\n",
        "drive.mount(\"/content/drive\")"
      ]
    },
    {
      "cell_type": "markdown",
      "metadata": {
        "id": "FXpnhMnORWfk"
      },
      "source": [
        "# **Load Data**"
      ]
    },
    {
      "cell_type": "code",
      "execution_count": null,
      "metadata": {
        "id": "scIhyLN9RSv9"
      },
      "outputs": [],
      "source": [
        "#Analyzing datasheets\n",
        "UNSW_Datasheets = spark.read.csv(\"/content/drive/MyDrive/UNSW dataset/UNSW-NB15.csv\",inferSchema=True,header=False)"
      ]
    },
    {
      "cell_type": "code",
      "execution_count": null,
      "metadata": {
        "colab": {
          "base_uri": "https://localhost:8080/"
        },
        "id": "LtRxPhl8RfjS",
        "outputId": "2d2dc2ac-17ba-4d4d-db3a-40b4c4339418"
      },
      "outputs": [
        {
          "name": "stdout",
          "output_type": "stream",
          "text": [
            "+----------+-----+-------------+-----+---+---+-----------+-----+------+---+----+----+----+----+---------+---------+----+----+----+----+----------+----------+----+----+----+----+---------+---------+----------+----------+---------+----------+------------+------------+------------+----+----+----+----+----+----+----+----+----+----+----+----+----+----+\n",
            "|       _c0|  _c1|          _c2|  _c3|_c4|_c5|        _c6|  _c7|   _c8|_c9|_c10|_c11|_c12|_c13|     _c14|     _c15|_c16|_c17|_c18|_c19|      _c20|      _c21|_c22|_c23|_c24|_c25|     _c26|     _c27|      _c28|      _c29|     _c30|      _c31|        _c32|        _c33|        _c34|_c35|_c36|_c37|_c38|_c39|_c40|_c41|_c42|_c43|_c44|_c45|_c46|_c47|_c48|\n",
            "+----------+-----+-------------+-----+---+---+-----------+-----+------+---+----+----+----+----+---------+---------+----+----+----+----+----------+----------+----+----+----+----+---------+---------+----------+----------+---------+----------+------------+------------+------------+----+----+----+----+----+----+----+----+----+----+----+----+----+----+\n",
            "|59.166.0.3|56716|149.171.126.8|  143|tcp|FIN| 0.82546002| 7812| 16236| 31|  29|  30|  32|   -| 75090.25|156111.73| 122| 126| 255| 255|2751097753|2748686736|  64| 129|   0|   0|445.25928| 474.9451|1421970774|1421970775|6.8190908|  6.599896|5.9700001E-4|4.6899999E-4|     1.28E-4|   0|   0|   0|   0|   0|   2|   7|   1|   4|   1|   1|   1|null|   0|\n",
            "|59.166.0.0|43467|149.171.126.6|49729|tcp|FIN|   0.101815| 4238| 65628| 31|  29|   7|  30|   -|328438.84|5087030.5|  72|  74| 255| 255| 961515433|3225510659|  59| 887|   0|   0|      0.0|91.579567|1421970775|1421970775| 1.429493|  1.387192|      6.8E-4|5.4600002E-4|     1.34E-4|   0|   0|   0|   0|   0|   7|   4|   1|   6|   1|   1|   1|null|   0|\n",
            "|59.166.0.5|41289|149.171.126.2| 9574|tcp|FIN|0.044002999| 2750| 29104| 31|  29|   7|  17|   -|488693.97|5181101.5|  44|  48| 255| 255|3291096757|1191410228|  63| 606|   0|   0|78.126968|62.206562|1421970775|1421970775| 1.014977|0.92583001|     0.00125|     4.85E-4|     7.65E-4|   0|   0|   0|   0|   0|   3|   5|   3|   3|   1|   1|   1|null|   0|\n",
            "|59.166.0.9|43785|149.171.126.0| 6881|tcp|FIN|  2.7908299|10476|395734| 31|  29|  16| 143|   -|29863.518|1130840.8| 180| 320| 255| 255|3934392726|3961690324|  58|1237|   0|   0|2707.4927| 2018.976|1421970772|1421970775|15.589459| 8.7470121|6.8400003E-4|5.3199998E-4|1.5199999E-4|   0|   0|   0|   0|   0|  11|   4|   3|   2|   1|   1|   1|null|   0|\n",
            "|59.166.0.8|40691|149.171.126.9| 6881|tcp|FIN|  2.6335001|13350|548216| 31|  29|  21| 197|   -|40381.238|1661560.6| 232| 438| 255| 255|   1518931|  18267719|  58|1252|   0|   0|718.33679|500.57288|1421970773|1421970775|11.399026| 6.0251832|     6.19E-4|     4.89E-4|      1.3E-4|   0|   0|   0|   0|   0|  16|   7|   7|   1|   1|   1|   1|null|   0|\n",
            "+----------+-----+-------------+-----+---+---+-----------+-----+------+---+----+----+----+----+---------+---------+----+----+----+----+----------+----------+----+----+----+----+---------+---------+----------+----------+---------+----------+------------+------------+------------+----+----+----+----+----+----+----+----+----+----+----+----+----+----+\n",
            "only showing top 5 rows\n",
            "\n"
          ]
        }
      ],
      "source": [
        "#Displaying datasheets\n",
        "UNSW_Datasheets.show(5)"
      ]
    },
    {
      "cell_type": "code",
      "execution_count": null,
      "metadata": {
        "id": "yXrZ_LQTRiiI"
      },
      "outputs": [],
      "source": [
        "#As a result, there are no feature names in the columns, thus we used todf function to apply feature names to the columns.\n",
        "\n",
        "datasheets = UNSW_Datasheets.toDF('srcip','sport','dstip','dsport','proto','state','dur','sbytes','dbytes','sttl','dttl','sloss','dloss','service','Sload','Dload','Spkts',\n",
        " 'Dpkts','swin','dwin','stcpb','dtcpb','smeansz','dmeansz','trans_depth','res_bdy_len','Sjit','Djit','Stime','Ltime','Sintpkt','Dintpkt','tcprtt','synack',\n",
        " 'ackdat','is_sm_ips_ports','ct_state_ttl','ct_flw_http_mthd','is_ftp_login','ct_ftp_cmd','ct_srv_src','ct_srv_dst','ct_dst_ltm','ct_src_ltm','ct_src_dport_ltm',\n",
        " 'ct_dst_sport_ltm','ct_dst_src_ltm','attack_cat','Label')"
      ]
    },
    {
      "cell_type": "code",
      "execution_count": null,
      "metadata": {
        "colab": {
          "base_uri": "https://localhost:8080/"
        },
        "id": "PWvDwnacRli8",
        "outputId": "66b3cb4f-fae0-4c2b-a86b-d9e4c0d44fa9"
      },
      "outputs": [
        {
          "name": "stdout",
          "output_type": "stream",
          "text": [
            "+----------+-----+-------------+------+-----+-----+-----------+------+------+----+----+-----+-----+-------+---------+---------+-----+-----+----+----+----------+----------+-------+-------+-----------+-----------+---------+---------+----------+----------+---------+----------+------------+------------+------------+---------------+------------+----------------+------------+----------+----------+----------+----------+----------+----------------+----------------+--------------+----------+-----+\n",
            "|     srcip|sport|        dstip|dsport|proto|state|        dur|sbytes|dbytes|sttl|dttl|sloss|dloss|service|    Sload|    Dload|Spkts|Dpkts|swin|dwin|     stcpb|     dtcpb|smeansz|dmeansz|trans_depth|res_bdy_len|     Sjit|     Djit|     Stime|     Ltime|  Sintpkt|   Dintpkt|      tcprtt|      synack|      ackdat|is_sm_ips_ports|ct_state_ttl|ct_flw_http_mthd|is_ftp_login|ct_ftp_cmd|ct_srv_src|ct_srv_dst|ct_dst_ltm|ct_src_ltm|ct_src_dport_ltm|ct_dst_sport_ltm|ct_dst_src_ltm|attack_cat|Label|\n",
            "+----------+-----+-------------+------+-----+-----+-----------+------+------+----+----+-----+-----+-------+---------+---------+-----+-----+----+----+----------+----------+-------+-------+-----------+-----------+---------+---------+----------+----------+---------+----------+------------+------------+------------+---------------+------------+----------------+------------+----------+----------+----------+----------+----------+----------------+----------------+--------------+----------+-----+\n",
            "|59.166.0.3|56716|149.171.126.8|   143|  tcp|  FIN| 0.82546002|  7812| 16236|  31|  29|   30|   32|      -| 75090.25|156111.73|  122|  126| 255| 255|2751097753|2748686736|     64|    129|          0|          0|445.25928| 474.9451|1421970774|1421970775|6.8190908|  6.599896|5.9700001E-4|4.6899999E-4|     1.28E-4|              0|           0|               0|           0|         0|         2|         7|         1|         4|               1|               1|             1|      null|    0|\n",
            "|59.166.0.0|43467|149.171.126.6| 49729|  tcp|  FIN|   0.101815|  4238| 65628|  31|  29|    7|   30|      -|328438.84|5087030.5|   72|   74| 255| 255| 961515433|3225510659|     59|    887|          0|          0|      0.0|91.579567|1421970775|1421970775| 1.429493|  1.387192|      6.8E-4|5.4600002E-4|     1.34E-4|              0|           0|               0|           0|         0|         7|         4|         1|         6|               1|               1|             1|      null|    0|\n",
            "|59.166.0.5|41289|149.171.126.2|  9574|  tcp|  FIN|0.044002999|  2750| 29104|  31|  29|    7|   17|      -|488693.97|5181101.5|   44|   48| 255| 255|3291096757|1191410228|     63|    606|          0|          0|78.126968|62.206562|1421970775|1421970775| 1.014977|0.92583001|     0.00125|     4.85E-4|     7.65E-4|              0|           0|               0|           0|         0|         3|         5|         3|         3|               1|               1|             1|      null|    0|\n",
            "|59.166.0.9|43785|149.171.126.0|  6881|  tcp|  FIN|  2.7908299| 10476|395734|  31|  29|   16|  143|      -|29863.518|1130840.8|  180|  320| 255| 255|3934392726|3961690324|     58|   1237|          0|          0|2707.4927| 2018.976|1421970772|1421970775|15.589459| 8.7470121|6.8400003E-4|5.3199998E-4|1.5199999E-4|              0|           0|               0|           0|         0|        11|         4|         3|         2|               1|               1|             1|      null|    0|\n",
            "|59.166.0.8|40691|149.171.126.9|  6881|  tcp|  FIN|  2.6335001| 13350|548216|  31|  29|   21|  197|      -|40381.238|1661560.6|  232|  438| 255| 255|   1518931|  18267719|     58|   1252|          0|          0|718.33679|500.57288|1421970773|1421970775|11.399026| 6.0251832|     6.19E-4|     4.89E-4|      1.3E-4|              0|           0|               0|           0|         0|        16|         7|         7|         1|               1|               1|             1|      null|    0|\n",
            "+----------+-----+-------------+------+-----+-----+-----------+------+------+----+----+-----+-----+-------+---------+---------+-----+-----+----+----+----------+----------+-------+-------+-----------+-----------+---------+---------+----------+----------+---------+----------+------------+------------+------------+---------------+------------+----------------+------------+----------+----------+----------+----------+----------+----------------+----------------+--------------+----------+-----+\n",
            "only showing top 5 rows\n",
            "\n"
          ]
        }
      ],
      "source": [
        "#The column containing the original feature names is shown.\n",
        "datasheets.show(5)"
      ]
    },
    {
      "cell_type": "code",
      "execution_count": null,
      "metadata": {
        "colab": {
          "base_uri": "https://localhost:8080/"
        },
        "id": "4i73_rWYRpbh",
        "outputId": "06922ab8-8422-4692-89ea-182b4387e334"
      },
      "outputs": [
        {
          "name": "stdout",
          "output_type": "stream",
          "text": [
            "root\n",
            " |-- srcip: string (nullable = true)\n",
            " |-- sport: integer (nullable = true)\n",
            " |-- dstip: string (nullable = true)\n",
            " |-- dsport: integer (nullable = true)\n",
            " |-- proto: string (nullable = true)\n",
            " |-- state: string (nullable = true)\n",
            " |-- dur: double (nullable = true)\n",
            " |-- sbytes: integer (nullable = true)\n",
            " |-- dbytes: integer (nullable = true)\n",
            " |-- sttl: integer (nullable = true)\n",
            " |-- dttl: integer (nullable = true)\n",
            " |-- sloss: integer (nullable = true)\n",
            " |-- dloss: integer (nullable = true)\n",
            " |-- service: string (nullable = true)\n",
            " |-- Sload: double (nullable = true)\n",
            " |-- Dload: double (nullable = true)\n",
            " |-- Spkts: integer (nullable = true)\n",
            " |-- Dpkts: integer (nullable = true)\n",
            " |-- swin: integer (nullable = true)\n",
            " |-- dwin: integer (nullable = true)\n",
            " |-- stcpb: long (nullable = true)\n",
            " |-- dtcpb: long (nullable = true)\n",
            " |-- smeansz: integer (nullable = true)\n",
            " |-- dmeansz: integer (nullable = true)\n",
            " |-- trans_depth: integer (nullable = true)\n",
            " |-- res_bdy_len: integer (nullable = true)\n",
            " |-- Sjit: double (nullable = true)\n",
            " |-- Djit: double (nullable = true)\n",
            " |-- Stime: integer (nullable = true)\n",
            " |-- Ltime: integer (nullable = true)\n",
            " |-- Sintpkt: double (nullable = true)\n",
            " |-- Dintpkt: double (nullable = true)\n",
            " |-- tcprtt: double (nullable = true)\n",
            " |-- synack: double (nullable = true)\n",
            " |-- ackdat: double (nullable = true)\n",
            " |-- is_sm_ips_ports: integer (nullable = true)\n",
            " |-- ct_state_ttl: integer (nullable = true)\n",
            " |-- ct_flw_http_mthd: integer (nullable = true)\n",
            " |-- is_ftp_login: integer (nullable = true)\n",
            " |-- ct_ftp_cmd: integer (nullable = true)\n",
            " |-- ct_srv_src: integer (nullable = true)\n",
            " |-- ct_srv_dst: integer (nullable = true)\n",
            " |-- ct_dst_ltm: integer (nullable = true)\n",
            " |-- ct_src_ltm: integer (nullable = true)\n",
            " |-- ct_src_dport_ltm: integer (nullable = true)\n",
            " |-- ct_dst_sport_ltm: integer (nullable = true)\n",
            " |-- ct_dst_src_ltm: integer (nullable = true)\n",
            " |-- attack_cat: string (nullable = true)\n",
            " |-- Label: integer (nullable = true)\n",
            "\n"
          ]
        }
      ],
      "source": [
        "#The schemas of the columns are displayed.\n",
        "datasheets.printSchema()"
      ]
    },
    {
      "cell_type": "markdown",
      "metadata": {
        "id": "_Vbbrt6DRyeA"
      },
      "source": [
        "# **Machine Learning - Binary Classifier**"
      ]
    },
    {
      "cell_type": "code",
      "execution_count": null,
      "metadata": {
        "id": "im9X7_qbRs6E"
      },
      "outputs": [],
      "source": [
        "#The datasheets contains 49 distinct features. \n",
        "#For classification purpose we are selecting the particular features\n",
        "#We are using the target column as the Label column for binary classification.\n",
        "\n",
        "Binary_class_datasheets = datasheets.select(\"sport\",\"dsport\",\"dur\",\"Sload\",\"Dload\",\"Spkts\",\"Dpkts\",\"swin\",\"dwin\",\"stcpb\",\"dtcpb\",\"smeansz\",\"dmeansz\",\"Label\")"
      ]
    },
    {
      "cell_type": "code",
      "execution_count": null,
      "metadata": {
        "colab": {
          "base_uri": "https://localhost:8080/"
        },
        "id": "i23Ql6wGR_eg",
        "outputId": "697f850c-ca3c-4d9b-96ba-c88a6ca44554"
      },
      "outputs": [
        {
          "name": "stdout",
          "output_type": "stream",
          "text": [
            "+-----+------+---+-----+-----+-----+-----+----+----+-----+-----+-------+-------+-----+\n",
            "|sport|dsport|dur|Sload|Dload|Spkts|Dpkts|swin|dwin|stcpb|dtcpb|smeansz|dmeansz|Label|\n",
            "+-----+------+---+-----+-----+-----+-----+----+----+-----+-----+-------+-------+-----+\n",
            "|    0|     0|  0|    0|    0|    0|    0|   0|   0|    0|    0|      0|      0|    0|\n",
            "+-----+------+---+-----+-----+-----+-----+----+----+-----+-----+-------+-------+-----+\n",
            "\n"
          ]
        }
      ],
      "source": [
        "#Look over the null values and nan values in our dataset\n",
        "from pyspark.sql.functions import col,isnan, when, count\n",
        "Binary_class_datasheets.select([count(when(isnan(c) | col(c).isNull(), c)).alias(c) for c in Binary_class_datasheets.columns]).show()"
      ]
    },
    {
      "cell_type": "code",
      "execution_count": null,
      "metadata": {
        "colab": {
          "base_uri": "https://localhost:8080/"
        },
        "id": "QB_gHfTMSDNc",
        "outputId": "37b9fd7a-5c45-452d-f909-6d3bda6c4ca9"
      },
      "outputs": [
        {
          "name": "stdout",
          "output_type": "stream",
          "text": [
            "+-------+------------------+------------------+------------------+--------------------+-----------------+-----------------+------------------+------------------+------------------+--------------------+--------------------+------------------+------------------+-------------------+\n",
            "|summary|             sport|            dsport|               dur|               Sload|            Dload|            Spkts|             Dpkts|              swin|              dwin|               stcpb|               dtcpb|           smeansz|           dmeansz|              Label|\n",
            "+-------+------------------+------------------+------------------+--------------------+-----------------+-----------------+------------------+------------------+------------------+--------------------+--------------------+------------------+------------------+-------------------+\n",
            "|  count|           2539739|           2539739|           2539739|             2539739|          2539739|          2539739|           2539739|           2539739|           2539739|             2539739|             2539739|           2539739|           2539739|            2539739|\n",
            "|   mean| 30536.93108583205|11235.096788685767|0.6588634003800393| 3.694927939363408E7|2451158.440857539| 33.2925678583508|42.731821655689814|150.10695075360107|149.76404347060858|1.2618542900429437E9|1.2619194806546414E9|124.25270588828222|276.70543193611627| 0.1265023689442104|\n",
            "| stddev|20441.216792342224| 18438.20083577165|13.925767633289283|1.1860413786386509E8|4225032.897503491|76.28775585678378|121.50842004704197|125.47913122211004|125.54062192608511| 1.422045057823864E9| 1.422157469789883E9|151.92108772283464| 335.6231650135929|0.33241474561750184|\n",
            "|    min|                 0|                 0|               0.0|                 0.0|              0.0|                0|                 0|                 0|                 0|                   0|                   0|                 0|                 0|                  0|\n",
            "|    max|             65535|             65535|         8786.6377|         5.9880003E9|       1.287619E8|            10646|             11018|               255|               255|          4294958913|          4294953724|              1504|              1500|                  1|\n",
            "+-------+------------------+------------------+------------------+--------------------+-----------------+-----------------+------------------+------------------+------------------+--------------------+--------------------+------------------+------------------+-------------------+\n",
            "\n"
          ]
        }
      ],
      "source": [
        "#Examine each column's statistics using describe function\n",
        "Binary_class_datasheets.describe().show()"
      ]
    },
    {
      "cell_type": "markdown",
      "metadata": {
        "id": "c0sUovCOSLMh"
      },
      "source": [
        "# **1.1 Data Cleaning**"
      ]
    },
    {
      "cell_type": "code",
      "execution_count": null,
      "metadata": {
        "colab": {
          "base_uri": "https://localhost:8080/"
        },
        "id": "uDfxj4TySGHU",
        "outputId": "7886cb19-7bcc-4801-a3f7-78754900d04d"
      },
      "outputs": [
        {
          "name": "stdout",
          "output_type": "stream",
          "text": [
            "+-------+-------+------------+---------+---------+-----+-----+-----+-----+-------------+-------------+-------+-------+-----+\n",
            "|  sport| dsport|         dur|    Sload|    Dload|Spkts|Dpkts| swin| dwin|        stcpb|        dtcpb|smeansz|dmeansz|Label|\n",
            "+-------+-------+------------+---------+---------+-----+-----+-----+-----+-------------+-------------+-------+-------+-----+\n",
            "|56716.0|  143.0|  0.82546002| 75090.25|156111.73|122.0|126.0|255.0|255.0|2.751097753E9|2.748686736E9|   64.0|  129.0|    0|\n",
            "|43467.0|49729.0|    0.101815|328438.84|5087030.5| 72.0| 74.0|255.0|255.0| 9.61515433E8|3.225510659E9|   59.0|  887.0|    0|\n",
            "|41289.0| 9574.0| 0.044002999|488693.97|5181101.5| 44.0| 48.0|255.0|255.0|3.291096757E9|1.191410228E9|   63.0|  606.0|    0|\n",
            "|43785.0| 6881.0|   2.7908299|29863.518|1130840.8|180.0|320.0|255.0|255.0|3.934392726E9|3.961690324E9|   58.0| 1237.0|    0|\n",
            "|40691.0| 6881.0|   2.6335001|40381.238|1661560.6|232.0|438.0|255.0|255.0|    1518931.0|  1.8267719E7|   58.0| 1252.0|    0|\n",
            "|20393.0| 5190.0|    0.115048|129963.15|153814.06| 22.0| 24.0|255.0|255.0|3.646899201E9|3.651364285E9|   89.0|   96.0|    0|\n",
            "|19792.0|   53.0|    0.003362|173706.13| 211778.7|  2.0|  2.0|  NaN|  NaN|          NaN|          NaN|   73.0|   89.0|    0|\n",
            "|14382.0| 3354.0|  0.45305201| 6551.124| 142835.7|  8.0| 12.0|255.0|255.0|2.206905053E9|3.307670308E9|   53.0|  735.0|    0|\n",
            "|37074.0|   53.0|    0.001088|536764.69|654411.75|  2.0|  2.0|  NaN|  NaN|          NaN|          NaN|   73.0|   89.0|    0|\n",
            "|12569.0|   53.0|9.6899999E-4|602683.19|734778.13|  2.0|  2.0|  NaN|  NaN|          NaN|          NaN|   73.0|   89.0|    0|\n",
            "+-------+-------+------------+---------+---------+-----+-----+-----+-----+-------------+-------------+-------+-------+-----+\n",
            "only showing top 10 rows\n",
            "\n"
          ]
        }
      ],
      "source": [
        "#In the columns minimum values are 0\n",
        "#For the next step, we must set all minimum values to 0 as Nan.\n",
        "\n",
        "import numpy as np\n",
        "Binary_class_datasheets=Binary_class_datasheets.withColumn(\"sport\",when(Binary_class_datasheets.sport==0,np.nan).otherwise(Binary_class_datasheets.sport))\n",
        "Binary_class_datasheets=Binary_class_datasheets.withColumn(\"dsport\",when(Binary_class_datasheets.dsport==0,np.nan).otherwise(Binary_class_datasheets.dsport))\n",
        "Binary_class_datasheets=Binary_class_datasheets.withColumn(\"dur\",when(Binary_class_datasheets.dur==0,np.nan).otherwise(Binary_class_datasheets.dur))\n",
        "Binary_class_datasheets=Binary_class_datasheets.withColumn(\"Sload\",when(Binary_class_datasheets.Sload==0,np.nan).otherwise(Binary_class_datasheets.Sload))\n",
        "Binary_class_datasheets=Binary_class_datasheets.withColumn(\"Dload\",when(Binary_class_datasheets.Dload==0,np.nan).otherwise(Binary_class_datasheets.Dload))\n",
        "Binary_class_datasheets=Binary_class_datasheets.withColumn(\"Spkts\",when(Binary_class_datasheets.Spkts==0,np.nan).otherwise(Binary_class_datasheets.Spkts))\n",
        "Binary_class_datasheets=Binary_class_datasheets.withColumn(\"Dpkts\",when(Binary_class_datasheets.Dpkts==0,np.nan).otherwise(Binary_class_datasheets.Dpkts))\n",
        "Binary_class_datasheets=Binary_class_datasheets.withColumn(\"swin\",when(Binary_class_datasheets.swin==0,np.nan).otherwise(Binary_class_datasheets.swin))\n",
        "Binary_class_datasheets=Binary_class_datasheets.withColumn(\"dwin\",when(Binary_class_datasheets.dwin==0,np.nan).otherwise(Binary_class_datasheets.dwin))\n",
        "Binary_class_datasheets=Binary_class_datasheets.withColumn(\"stcpb\",when(Binary_class_datasheets.stcpb==0,np.nan).otherwise(Binary_class_datasheets.stcpb))\n",
        "Binary_class_datasheets=Binary_class_datasheets.withColumn(\"dtcpb\",when(Binary_class_datasheets.dtcpb==0,np.nan).otherwise(Binary_class_datasheets.dtcpb))\n",
        "Binary_class_datasheets=Binary_class_datasheets.withColumn(\"smeansz\",when(Binary_class_datasheets.smeansz==0,np.nan).otherwise(Binary_class_datasheets.smeansz))\n",
        "Binary_class_datasheets=Binary_class_datasheets.withColumn(\"dmeansz\",when(Binary_class_datasheets.dmeansz==0,np.nan).otherwise(Binary_class_datasheets.dmeansz))\n",
        "Binary_class_datasheets.select(\"sport\",\"dsport\",\"dur\",\"Sload\",\"Dload\",\"Spkts\",\"Dpkts\",\"swin\",\"dwin\",\"stcpb\",\"dtcpb\",\"smeansz\",\"dmeansz\",\"Label\").show(10)"
      ]
    },
    {
      "cell_type": "code",
      "execution_count": null,
      "metadata": {
        "colab": {
          "base_uri": "https://localhost:8080/"
        },
        "id": "wE0BKUPKSTzc",
        "outputId": "9f6bd519-8399-4954-8f90-33f7932788f0"
      },
      "outputs": [
        {
          "name": "stdout",
          "output_type": "stream",
          "text": [
            "+-----+------+----+-----+------+-----+------+-------+-------+-------+-------+-------+-------+-----+\n",
            "|sport|dsport| dur|Sload| Dload|Spkts| Dpkts|   swin|   dwin|  stcpb|  dtcpb|smeansz|dmeansz|Label|\n",
            "+-----+------+----+-----+------+-----+------+-------+-------+-------+-------+-------+-------+-----+\n",
            "|54043| 54088|8308| 5104|500366|    9|499901|1044685|1048108|1047558|1047883|      9| 499901|    0|\n",
            "+-----+------+----+-----+------+-----+------+-------+-------+-------+-------+-------+-------+-----+\n",
            "\n"
          ]
        }
      ],
      "source": [
        "#Check the NAN values once more. \n",
        "\n",
        "from pyspark.sql.functions import col,isnan, when, count\n",
        "Binary_class_datasheets.select([count(when(isnan(c),c)).alias(c) for c in Binary_class_datasheets.columns]).show()"
      ]
    },
    {
      "cell_type": "markdown",
      "metadata": {
        "id": "mnRc3znMSapt"
      },
      "source": [
        "# **1.2 Data Preprocessing**"
      ]
    },
    {
      "cell_type": "code",
      "execution_count": null,
      "metadata": {
        "colab": {
          "base_uri": "https://localhost:8080/"
        },
        "id": "pxwg0iJ9SXq0",
        "outputId": "19a7127f-c9a2-4535-a013-7c3c2a1dd1a8"
      },
      "outputs": [
        {
          "name": "stdout",
          "output_type": "stream",
          "text": [
            "+-------+-------+------------+---------+---------+-----+-----+------------------+------------------+--------------------+--------------------+-------+-------+-----+\n",
            "|  sport| dsport|         dur|    Sload|    Dload|Spkts|Dpkts|              swin|              dwin|               stcpb|               dtcpb|smeansz|dmeansz|Label|\n",
            "+-------+-------+------------+---------+---------+-----+-----+------------------+------------------+--------------------+--------------------+-------+-------+-----+\n",
            "|56716.0|  143.0|  0.82546002| 75090.25|156111.73|122.0|126.0|             255.0|             255.0|       2.751097753E9|       2.748686736E9|   64.0|  129.0|    0|\n",
            "|43467.0|49729.0|    0.101815|328438.84|5087030.5| 72.0| 74.0|             255.0|             255.0|        9.61515433E8|       3.225510659E9|   59.0|  887.0|    0|\n",
            "|41289.0| 9574.0| 0.044002999|488693.97|5181101.5| 44.0| 48.0|             255.0|             255.0|       3.291096757E9|       1.191410228E9|   63.0|  606.0|    0|\n",
            "|43785.0| 6881.0|   2.7908299|29863.518|1130840.8|180.0|320.0|             255.0|             255.0|       3.934392726E9|       3.961690324E9|   58.0| 1237.0|    0|\n",
            "|40691.0| 6881.0|   2.6335001|40381.238|1661560.6|232.0|438.0|             255.0|             255.0|           1518931.0|         1.8267719E7|   58.0| 1252.0|    0|\n",
            "|20393.0| 5190.0|    0.115048|129963.15|153814.06| 22.0| 24.0|             255.0|             255.0|       3.646899201E9|       3.651364285E9|   89.0|   96.0|    0|\n",
            "|19792.0|   53.0|    0.003362|173706.13| 211778.7|  2.0|  2.0|254.99579078748994|254.99710183014432|2.1477156945031304E9|2.1482945538164124E9|   73.0|   89.0|    0|\n",
            "|14382.0| 3354.0|  0.45305201| 6551.124| 142835.7|  8.0| 12.0|             255.0|             255.0|       2.206905053E9|       3.307670308E9|   53.0|  735.0|    0|\n",
            "|37074.0|   53.0|    0.001088|536764.69|654411.75|  2.0|  2.0|254.99579078748994|254.99710183014432|2.1477156945031304E9|2.1482945538164124E9|   73.0|   89.0|    0|\n",
            "|12569.0|   53.0|9.6899999E-4|602683.19|734778.13|  2.0|  2.0|254.99579078748994|254.99710183014432|2.1477156945031304E9|2.1482945538164124E9|   73.0|   89.0|    0|\n",
            "+-------+-------+------------+---------+---------+-----+-----+------------------+------------------+--------------------+--------------------+-------+-------+-----+\n",
            "only showing top 10 rows\n",
            "\n"
          ]
        }
      ],
      "source": [
        "#As a result, there are numerous missing values in the datasheets.\n",
        "#Using the imputer function, we must convert all missing values to a numbers.\n",
        "\n",
        "from pyspark.ml.feature import Imputer\n",
        "imputer=Imputer(inputCols=[\"sport\",\"dsport\",\"dur\",\"Sload\",\"Dload\",\"Spkts\",\"Dpkts\",\"swin\",\"dwin\",\"stcpb\",\"dtcpb\",\"smeansz\",\"dmeansz\",\"Label\"],outputCols=[\"sport\",\"dsport\",\"dur\",\"Sload\",\"Dload\",\"Spkts\",\"Dpkts\",\"swin\",\"dwin\",\"stcpb\",\"dtcpb\",\"smeansz\",\"dmeansz\",\"Label\"])\n",
        "model=imputer.fit(Binary_class_datasheets)\n",
        "Binary_class_datasheets=model.transform(Binary_class_datasheets)\n",
        "Binary_class_datasheets.show(10)"
      ]
    },
    {
      "cell_type": "markdown",
      "metadata": {
        "id": "jtqOpylgSkj4"
      },
      "source": [
        "# **1.3 Vector Assembler**"
      ]
    },
    {
      "cell_type": "code",
      "execution_count": null,
      "metadata": {
        "id": "tXmlcjFVShKo"
      },
      "outputs": [],
      "source": [
        "#By integrating all features into a single vector, you can create a feature vector.\n",
        "#Assume that all binary datasheet columns belong to a single file.\n",
        "\n",
        "file = Binary_class_datasheets.columns\n",
        "#As a result, since our target column is label for binary classification, we must eliminate it.\n",
        "\n",
        "file.remove(\"Label\")"
      ]
    },
    {
      "cell_type": "code",
      "execution_count": null,
      "metadata": {
        "colab": {
          "base_uri": "https://localhost:8080/"
        },
        "id": "7wCajDFTSqaI",
        "outputId": "0eccf757-76c9-484a-a2f8-d9173fc3c5a0"
      },
      "outputs": [
        {
          "name": "stdout",
          "output_type": "stream",
          "text": [
            "+--------------------------------------------------------------------------------------------------------------+\n",
            "|Unsw_features                                                                                                 |\n",
            "+--------------------------------------------------------------------------------------------------------------+\n",
            "|[56716.0,143.0,0.82546002,75090.25,156111.73,122.0,126.0,255.0,255.0,2.751097753E9,2.748686736E9,64.0,129.0]  |\n",
            "|[43467.0,49729.0,0.101815,328438.84,5087030.5,72.0,74.0,255.0,255.0,9.61515433E8,3.225510659E9,59.0,887.0]    |\n",
            "|[41289.0,9574.0,0.044002999,488693.97,5181101.5,44.0,48.0,255.0,255.0,3.291096757E9,1.191410228E9,63.0,606.0] |\n",
            "|[43785.0,6881.0,2.7908299,29863.518,1130840.8,180.0,320.0,255.0,255.0,3.934392726E9,3.961690324E9,58.0,1237.0]|\n",
            "|[40691.0,6881.0,2.6335001,40381.238,1661560.6,232.0,438.0,255.0,255.0,1518931.0,1.8267719E7,58.0,1252.0]      |\n",
            "+--------------------------------------------------------------------------------------------------------------+\n",
            "only showing top 5 rows\n",
            "\n"
          ]
        }
      ],
      "source": [
        "#We can turn all features into a single vector using vector assembler.\n",
        "\n",
        "from pyspark.ml.feature import VectorAssembler\n",
        "assembling = VectorAssembler(inputCols=file,outputCol=\"Unsw_features\")\n",
        "\n",
        "#Let's now apply the transform method to our dataset.\n",
        "Binary_class_datasheets = assembling.transform(Binary_class_datasheets)\n",
        "Binary_class_datasheets.select(\"Unsw_features\").show(5,truncate=False)"
      ]
    },
    {
      "cell_type": "code",
      "execution_count": null,
      "metadata": {
        "colab": {
          "base_uri": "https://localhost:8080/"
        },
        "id": "AeMss_LhSt_s",
        "outputId": "066f78ee-0312-4923-8073-b4e56dfe150a"
      },
      "outputs": [
        {
          "name": "stdout",
          "output_type": "stream",
          "text": [
            "+-----+--------------------+\n",
            "|Label|       Unsw_features|\n",
            "+-----+--------------------+\n",
            "|    0|[56716.0,143.0,0....|\n",
            "|    0|[43467.0,49729.0,...|\n",
            "|    0|[41289.0,9574.0,0...|\n",
            "|    0|[43785.0,6881.0,2...|\n",
            "|    0|[40691.0,6881.0,2...|\n",
            "+-----+--------------------+\n",
            "only showing top 5 rows\n",
            "\n"
          ]
        }
      ],
      "source": [
        "#We are taken all the features into the Unsw_features using Vector Assembler\n",
        "#So we drop the other unnecessary columns\n",
        "\n",
        "New_Binary_class_datasheets = Binary_class_datasheets.drop(\"sport\",\"dsport\",\"dur\",\"Sload\",\"Dload\",\"Spkts\",\"Dpkts\",\"swin\",\"dwin\",\"stcpb\",\"dtcpb\",\"smeansz\",\"dmeansz\")\n",
        "New_Binary_class_datasheets.show(5)"
      ]
    },
    {
      "cell_type": "markdown",
      "metadata": {
        "id": "aHkiOliUS0Cg"
      },
      "source": [
        "# **1.4 Standardization**"
      ]
    },
    {
      "cell_type": "code",
      "execution_count": null,
      "metadata": {
        "colab": {
          "base_uri": "https://localhost:8080/"
        },
        "id": "DQFKQ2EVSxco",
        "outputId": "65e1ecfe-3e7c-4b06-d4ab-5a78237d27d1"
      },
      "outputs": [
        {
          "name": "stdout",
          "output_type": "stream",
          "text": [
            "+-----+--------------------+---------------------+\n",
            "|Label|       Unsw_features|Standardized_features|\n",
            "+-----+--------------------+---------------------+\n",
            "|    0|[56716.0,143.0,0....| [1.27965149939382...|\n",
            "|    0|[43467.0,49729.0,...| [0.61517942977276...|\n",
            "|    0|[41289.0,9574.0,0...| [0.50594702222240...|\n",
            "|    0|[43785.0,6881.0,2...| [0.63112796310656...|\n",
            "|    0|[40691.0,6881.0,2...| [0.47595575513557...|\n",
            "+-----+--------------------+---------------------+\n",
            "only showing top 5 rows\n",
            "\n"
          ]
        }
      ],
      "source": [
        "#We rescale our feature values with a distribution of mean 0 and variance equals to 1 using standard scaler.\n",
        "#Using standard scaling for new binary class datasheets\n",
        "\n",
        "from pyspark.ml.feature import StandardScaler\n",
        "standardScaling = StandardScaler(inputCol=\"Unsw_features\",outputCol=\"Standardized_features\",withMean=True,withStd=True)\n",
        "Binary_class_datasheets = standardScaling.fit(New_Binary_class_datasheets).transform(New_Binary_class_datasheets)\n",
        "Binary_class_datasheets.show(5)"
      ]
    },
    {
      "cell_type": "markdown",
      "metadata": {
        "id": "Ra1DFbn2S8t_"
      },
      "source": [
        "# **1.5 Train and Test Datasheets**"
      ]
    },
    {
      "cell_type": "code",
      "execution_count": null,
      "metadata": {
        "id": "TKWe8sBuS6BM"
      },
      "outputs": [],
      "source": [
        "#Divide the data into test and train.\n",
        "training_datasheets, testing_datasheets = Binary_class_datasheets.randomSplit([0.7, 0.3], seed=12345)"
      ]
    },
    {
      "cell_type": "code",
      "execution_count": null,
      "metadata": {
        "colab": {
          "base_uri": "https://localhost:8080/"
        },
        "id": "8rXqCX0OTBbc",
        "outputId": "66f322f3-abd5-49d6-9f4a-3396c0f9d3e5"
      },
      "outputs": [
        {
          "name": "stdout",
          "output_type": "stream",
          "text": [
            "+-----+--------------------+---------------------+\n",
            "|Label|       Unsw_features|Standardized_features|\n",
            "+-----+--------------------+---------------------+\n",
            "|    0|[47.0,23654.0,10....| [-1.5624473543578...|\n",
            "|    0|[47.0,23654.0,10....| [-1.5624473543578...|\n",
            "|    0|[53.0,53.0,3.0000...| [-1.5621464386345...|\n",
            "|    0|[53.0,53.0,1.2E-5...| [-1.5621464386345...|\n",
            "|    0|[53.0,1540.0,3.00...| [-1.5621464386345...|\n",
            "+-----+--------------------+---------------------+\n",
            "only showing top 5 rows\n",
            "\n"
          ]
        }
      ],
      "source": [
        "training_datasheets.show(5)"
      ]
    },
    {
      "cell_type": "code",
      "execution_count": null,
      "metadata": {
        "colab": {
          "base_uri": "https://localhost:8080/"
        },
        "id": "dDyFAKcKTEJR",
        "outputId": "568dd474-a03b-4b9b-9563-ee5666f28b72"
      },
      "outputs": [
        {
          "name": "stdout",
          "output_type": "stream",
          "text": [
            "+-----+--------------------+---------------------+\n",
            "|Label|       Unsw_features|Standardized_features|\n",
            "+-----+--------------------+---------------------+\n",
            "|    0|[53.0,44578.0,3.0...| [-1.5621464386345...|\n",
            "|    0|[80.0,8121.0,1.00...| [-1.5607923178798...|\n",
            "|    0|[80.0,42024.0,4.5...| [-1.5607923178798...|\n",
            "|    0|[111.0,59745.0,2....| [-1.5592375866428...|\n",
            "|    0|[138.0,138.0,2.7E...| [-1.5578834658881...|\n",
            "+-----+--------------------+---------------------+\n",
            "only showing top 5 rows\n",
            "\n"
          ]
        }
      ],
      "source": [
        "testing_datasheets.show(5)"
      ]
    },
    {
      "cell_type": "markdown",
      "metadata": {
        "id": "TVIfF-cFTKvU"
      },
      "source": [
        "# **1.6 Class Imbalance**"
      ]
    },
    {
      "cell_type": "code",
      "execution_count": null,
      "metadata": {
        "colab": {
          "base_uri": "https://localhost:8080/"
        },
        "id": "tFUwZwGrTHV4",
        "outputId": "733c3de9-3e5f-4a34-a24c-70ef1b81242c"
      },
      "outputs": [
        {
          "name": "stdout",
          "output_type": "stream",
          "text": [
            "+-----+-------+\n",
            "|Label|  count|\n",
            "+-----+-------+\n",
            "|    1| 224969|\n",
            "|    0|1552987|\n",
            "+-----+-------+\n",
            "\n"
          ]
        }
      ],
      "source": [
        "# 0 for normal\n",
        "# 1 for attack\n",
        "#Hence normal values are greater than attack values , class is imbalanced\n",
        "training_datasheets.groupBy(\"Label\").count().show()"
      ]
    },
    {
      "cell_type": "code",
      "execution_count": null,
      "metadata": {
        "colab": {
          "base_uri": "https://localhost:8080/"
        },
        "id": "3Fec780kTPwI",
        "outputId": "7611cc5e-c445-4535-975c-13955377095d"
      },
      "outputs": [
        {
          "name": "stdout",
          "output_type": "stream",
          "text": [
            "Total number of label count is : 1777956.0\n"
          ]
        }
      ],
      "source": [
        "#We are checking the total number of labels\n",
        "total_label_count=float(training_datasheets.select(\"Label\").count())\n",
        "print(\"Total number of label count is :\",total_label_count)"
      ]
    },
    {
      "cell_type": "code",
      "execution_count": null,
      "metadata": {
        "colab": {
          "base_uri": "https://localhost:8080/"
        },
        "id": "rNT-Jm3YTSte",
        "outputId": "fcc790a5-c71e-47de-dc38-defc4283291b"
      },
      "outputs": [
        {
          "name": "stdout",
          "output_type": "stream",
          "text": [
            "Total number of attack category is : 224969\n"
          ]
        }
      ],
      "source": [
        "#Count the total number of attack labels\n",
        "attack_count=training_datasheets.select(\"Label\").where('Label == 1').count()\n",
        "print(\"Total number of attack category is :\",attack_count)"
      ]
    },
    {
      "cell_type": "code",
      "execution_count": null,
      "metadata": {
        "colab": {
          "base_uri": "https://localhost:8080/"
        },
        "id": "BOY3DfgNTWfg",
        "outputId": "c7811ac1-8992-453e-d9e7-c5695d48ed78"
      },
      "outputs": [
        {
          "name": "stdout",
          "output_type": "stream",
          "text": [
            "Total number of normal category is : 1552987\n"
          ]
        }
      ],
      "source": [
        "#Count the total number of normal labels\n",
        "normal_count=training_datasheets.select(\"Label\").where('Label == 0').count()\n",
        "print(\"Total number of normal category is :\",normal_count)"
      ]
    },
    {
      "cell_type": "code",
      "execution_count": null,
      "metadata": {
        "colab": {
          "base_uri": "https://localhost:8080/"
        },
        "id": "yfdcCpQyTZUh",
        "outputId": "d6cef7a3-d60a-4430-c06c-c79e25284aeb"
      },
      "outputs": [
        {
          "name": "stdout",
          "output_type": "stream",
          "text": [
            "proportion values is : 0.8734676223708573\n"
          ]
        }
      ],
      "source": [
        "#Hence normal category count is more than attack category ,we have to find the proportion values\n",
        "proportion_values = normal_count/total_label_count\n",
        "print(\"proportion values is :\",proportion_values)"
      ]
    },
    {
      "cell_type": "code",
      "execution_count": null,
      "metadata": {
        "colab": {
          "base_uri": "https://localhost:8080/"
        },
        "id": "lmMKyA9-TcEf",
        "outputId": "161a9040-25a4-451d-d29a-0ac6d69ee8aa"
      },
      "outputs": [
        {
          "name": "stdout",
          "output_type": "stream",
          "text": [
            "+------------------+-----+\n",
            "| proportion_values|Label|\n",
            "+------------------+-----+\n",
            "|0.1265323776291427|    0|\n",
            "|0.1265323776291427|    0|\n",
            "|0.1265323776291427|    0|\n",
            "|0.1265323776291427|    0|\n",
            "|0.1265323776291427|    0|\n",
            "+------------------+-----+\n",
            "only showing top 5 rows\n",
            "\n"
          ]
        }
      ],
      "source": [
        "training_datasheets = training_datasheets.withColumn(\"proportion_values\", when(training_datasheets.Label == 1,proportion_values).otherwise(1-proportion_values))\n",
        "training_datasheets.select(\"proportion_values\",\"Label\").show(5)"
      ]
    },
    {
      "cell_type": "code",
      "execution_count": null,
      "metadata": {
        "id": "XQcutRIrTfEg"
      },
      "outputs": [],
      "source": [
        "#Visualizing imbalance data\n",
        "Class_Imbalance = training_datasheets.toPandas()"
      ]
    },
    {
      "cell_type": "code",
      "execution_count": null,
      "metadata": {
        "colab": {
          "base_uri": "https://localhost:8080/",
          "height": 316
        },
        "id": "RwsoFK0NTh8Q",
        "outputId": "b51f0b4b-dbc0-48a0-c262-e4d76d2e3109"
      },
      "outputs": [
        {
          "data": {
            "image/png": "[encoded data removed]",
            "text/plain": [
              "<Figure size 360x360 with 1 Axes>"
            ]
          },
          "metadata": {},
          "output_type": "display_data"
        }
      ],
      "source": [
        "#Plot using matplot library\n",
        "import matplotlib.pyplot as plt\n",
        "plt.figure(figsize=(5,5))\n",
        "plt.pie(Class_Imbalance.Label.value_counts(),labels=['0','1'],autopct='%0.2f%%')\n",
        "plt.title(\"Class Imbalance\",fontsize=8)\n",
        "plt.legend()\n",
        "plt.show()"
      ]
    },
    {
      "cell_type": "markdown",
      "metadata": {
        "id": "xtTGMLEDTnRg"
      },
      "source": [
        "# **1.7 Binary calssification using Logistic Regression**"
      ]
    },
    {
      "cell_type": "code",
      "execution_count": null,
      "metadata": {
        "colab": {
          "base_uri": "https://localhost:8080/"
        },
        "id": "JJLdiG0hTktY",
        "outputId": "0e5a67f9-c22c-49c7-f2d1-a3bd72e09801"
      },
      "outputs": [
        {
          "name": "stdout",
          "output_type": "stream",
          "text": [
            "+-----+--------------------+---------------------+--------------------+--------------------+----------+\n",
            "|Label|       Unsw_features|Standardized_features|       rawPrediction|         probability|prediction|\n",
            "+-----+--------------------+---------------------+--------------------+--------------------+----------+\n",
            "|    0|[53.0,44578.0,3.0...| [-1.5621464386345...|[0.73280153972457...|[0.67541974986484...|       0.0|\n",
            "|    0|[80.0,8121.0,1.00...| [-1.5607923178798...|[0.28597111821139...|[0.57100951111528...|       0.0|\n",
            "|    0|[80.0,42024.0,4.5...| [-1.5607923178798...|[2.00304827073448...|[0.88111675553109...|       0.0|\n",
            "|    0|[111.0,59745.0,2....| [-1.5592375866428...|[1.42263883608253...|[0.80575176936069...|       0.0|\n",
            "|    0|[138.0,138.0,2.7E...| [-1.5578834658881...|[-1.4234907384313...|[0.19411492914354...|       1.0|\n",
            "+-----+--------------------+---------------------+--------------------+--------------------+----------+\n",
            "only showing top 5 rows\n",
            "\n"
          ]
        }
      ],
      "source": [
        "#Using Logistic Regression\n",
        "from pyspark.ml.classification import LogisticRegression\n",
        "log_R = LogisticRegression(labelCol=\"Label\", featuresCol=\"Standardized_features\",weightCol=\"proportion_values\", maxIter=10)\n",
        "log_R_model=log_R.fit(training_datasheets)\n",
        "indicator = log_R_model.transform(testing_datasheets)\n",
        "indicator.show(5)"
      ]
    },
    {
      "cell_type": "code",
      "execution_count": 73,
      "metadata": {
        "id": "IXeRezJOTsJs",
        "colab": {
          "base_uri": "https://localhost:8080/"
        },
        "outputId": "85dd7006-d2c8-4d38-81e9-4dfe781fadae"
      },
      "outputs": [
        {
          "output_type": "stream",
          "name": "stdout",
          "text": [
            "+-----+----------+\n",
            "|Label|prediction|\n",
            "+-----+----------+\n",
            "|    0|       0.0|\n",
            "|    0|       0.0|\n",
            "|    0|       0.0|\n",
            "|    0|       0.0|\n",
            "|    0|       1.0|\n",
            "+-----+----------+\n",
            "only showing top 5 rows\n",
            "\n"
          ]
        }
      ],
      "source": [
        "indicator.select(\"Label\",\"prediction\").show(5)"
      ]
    },
    {
      "cell_type": "markdown",
      "metadata": {
        "id": "892sKattT3N8"
      },
      "source": [
        "# **1.8 Evaluating the BinaryClass Model**"
      ]
    },
    {
      "cell_type": "code",
      "execution_count": null,
      "metadata": {
        "colab": {
          "background_save": true
        },
        "id": "sH19vQP0Tu4k",
        "outputId": "7cafbce3-c2f7-4451-e568-b5836b6a470b"
      },
      "outputs": [
        {
          "name": "stdout",
          "output_type": "stream",
          "text": [
            "The area under ROC Curve is: 0.8551880348018946\n"
          ]
        }
      ],
      "source": [
        "#Evaluation\n",
        "from pyspark.ml.evaluation import BinaryClassificationEvaluator\n",
        "evaluation = BinaryClassificationEvaluator(rawPredictionCol=\"rawPrediction\",labelCol=\"Label\",metricName=\"areaUnderROC\")\n",
        "areaUnderROC = evaluation.evaluate(indicator)\n",
        "print(\"The area under ROC Curve is:\",areaUnderROC)"
      ]
    },
    {
      "cell_type": "markdown",
      "metadata": {
        "id": "C-baUtUFUBco"
      },
      "source": [
        "# **1.9 Measurements of BinaryClass Model**"
      ]
    },
    {
      "cell_type": "code",
      "execution_count": 34,
      "metadata": {
        "id": "krMvCA8oT-tw",
        "colab": {
          "base_uri": "https://localhost:8080/"
        },
        "outputId": "e3ade131-5039-4999-b7cd-3b62e79c745e"
      },
      "outputs": [
        {
          "output_type": "stream",
          "name": "stdout",
          "text": [
            "True positive rate is : 560724\n",
            "True negative rate is : 79359\n",
            "False positive rate is : 16955\n",
            "False negative rate is : 104745\n"
          ]
        }
      ],
      "source": [
        "#Finding TP,TN,FP,FN\n",
        "True_positive = indicator[(indicator.Label==0)& (indicator.prediction==0)].count()\n",
        "print(\"True positive rate is :\",True_positive)\n",
        "True_negative = indicator[(indicator.Label==1)& (indicator.prediction==1)].count()\n",
        "print(\"True negative rate is :\",True_negative)\n",
        "False_positive = indicator[(indicator.Label==1)& (indicator.prediction==0)].count()\n",
        "print(\"False positive rate is :\",False_positive)\n",
        "False_negative = indicator[(indicator.Label==0)& (indicator.prediction==1)].count()\n",
        "print(\"False negative rate is :\",False_negative)"
      ]
    },
    {
      "cell_type": "code",
      "execution_count": 35,
      "metadata": {
        "id": "69zA5vLRUJuc",
        "colab": {
          "base_uri": "https://localhost:8080/"
        },
        "outputId": "b2c388cb-5827-47a5-d127-b7fce52357ec"
      },
      "outputs": [
        {
          "output_type": "stream",
          "name": "stdout",
          "text": [
            "The Accuracy of the model is: 0.8402432188694156\n"
          ]
        }
      ],
      "source": [
        "#Calculating accuracy\n",
        "accuracy = float((True_positive+True_negative)/(indicator.count()))\n",
        "print(\"The Accuracy of the model is:\",accuracy)"
      ]
    },
    {
      "cell_type": "code",
      "execution_count": 36,
      "metadata": {
        "id": "Ko_UtTBBUNgF"
      },
      "outputs": [],
      "source": [
        "#Measurements of the model \n",
        "label = indicator.select(['Label']).collect()\n",
        "prediction = indicator.select(['prediction']).collect()"
      ]
    },
    {
      "cell_type": "code",
      "execution_count": 37,
      "metadata": {
        "id": "WaC9af2TUREh",
        "colab": {
          "base_uri": "https://localhost:8080/"
        },
        "outputId": "09e657ac-47ba-402d-8046-3db9761d8c18"
      },
      "outputs": [
        {
          "output_type": "stream",
          "name": "stdout",
          "text": [
            "[[560724 104745]\n",
            " [ 16955  79359]]\n"
          ]
        }
      ],
      "source": [
        "#Printing Confusion Matrix\n",
        "from sklearn.metrics import classification_report, confusion_matrix\n",
        "Confusionmatrix = confusion_matrix(label,prediction)\n",
        "print(Confusionmatrix)"
      ]
    },
    {
      "cell_type": "markdown",
      "metadata": {
        "id": "GwE_YaMJUXM5"
      },
      "source": [
        "# **1.10 Data Visualization**"
      ]
    },
    {
      "cell_type": "code",
      "execution_count": 38,
      "metadata": {
        "id": "gEGx7hznUUXE",
        "colab": {
          "base_uri": "https://localhost:8080/",
          "height": 296
        },
        "outputId": "8511f7f0-fde4-45af-8bb3-9f9e2c837062"
      },
      "outputs": [
        {
          "output_type": "display_data",
          "data": {
            "text/plain": [
              "<Figure size 432x288 with 2 Axes>"
            ],
            "image/png": "[encoded data removed]"
          },
          "metadata": {
            "needs_background": "light"
          }
        }
      ],
      "source": [
        "import seaborn as sns\n",
        "import matplotlib.pyplot as plt\n",
        "sns.heatmap(Confusionmatrix,cmap=\"Blues\",annot=True,xticklabels=[0,1],yticklabels=[0,1])\n",
        "plt.title(\"Confusion Matrix\")\n",
        "plt.xlabel(\"Predicted_value\")\n",
        "plt.ylabel(\"Actual_value\")\n",
        "plt.show()"
      ]
    },
    {
      "cell_type": "markdown",
      "metadata": {
        "id": "Rp56IlkyUnqA"
      },
      "source": [
        "# **1.11 Classification Report**"
      ]
    },
    {
      "cell_type": "code",
      "execution_count": 39,
      "metadata": {
        "id": "TBUpUh20UfF9",
        "colab": {
          "base_uri": "https://localhost:8080/"
        },
        "outputId": "f6d3af61-0ae2-4abf-ea42-d94579f0e627"
      },
      "outputs": [
        {
          "output_type": "stream",
          "name": "stdout",
          "text": [
            "              precision    recall  f1-score   support\n",
            "\n",
            "           0       0.97      0.84      0.90    665469\n",
            "           1       0.43      0.82      0.57     96314\n",
            "\n",
            "    accuracy                           0.84    761783\n",
            "   macro avg       0.70      0.83      0.73    761783\n",
            "weighted avg       0.90      0.84      0.86    761783\n",
            "\n"
          ]
        }
      ],
      "source": [
        "#Classification report for binary class model\n",
        "from sklearn.metrics import classification_report, confusion_matrix\n",
        "print(classification_report(label, prediction))"
      ]
    },
    {
      "cell_type": "markdown",
      "metadata": {
        "id": "gPPTOWLhUyjs"
      },
      "source": [
        "# **1.12 Data Visualization**"
      ]
    },
    {
      "cell_type": "code",
      "execution_count": 40,
      "metadata": {
        "id": "9oU8XnH7Uund",
        "colab": {
          "base_uri": "https://localhost:8080/",
          "height": 295
        },
        "outputId": "89ba6d93-7b51-4870-c5fd-805326353ff5"
      },
      "outputs": [
        {
          "output_type": "display_data",
          "data": {
            "text/plain": [
              "<Figure size 432x288 with 1 Axes>"
            ],
            "image/png": "[encoded data removed]"
          },
          "metadata": {
            "needs_background": "light"
          }
        }
      ],
      "source": [
        "#Visualising the model\n",
        "plt.title(\"Binary Logistic Regression Summary\")\n",
        "pr = log_R_model.summary.pr.toPandas()\n",
        "plt.plot(pr['recall'],pr['precision'])\n",
        "plt.xlabel('Recall')\n",
        "plt.ylabel('Precision')\n",
        "plt.show()"
      ]
    },
    {
      "cell_type": "markdown",
      "metadata": {
        "id": "UBcxmi6uVDnx"
      },
      "source": [
        "# **Machine Learning - Multi Classifier**"
      ]
    },
    {
      "cell_type": "code",
      "execution_count": 41,
      "metadata": {
        "id": "icyVwk8uVT9o"
      },
      "outputs": [],
      "source": [
        "#For multi classification we include the target column attack_cat which contains more classes and remove the label column\n",
        "multi_classify_datasheets = datasheets.select(\"sport\",\"dsport\",\"dur\",\"Sload\",\"Dload\",\"Spkts\",\"Dpkts\",\"swin\",\"dwin\",\"stcpb\",\"dtcpb\",\"smeansz\",\"dmeansz\",\"attack_cat\")"
      ]
    },
    {
      "cell_type": "code",
      "execution_count": 42,
      "metadata": {
        "id": "ZDy_2xlTVXyo",
        "colab": {
          "base_uri": "https://localhost:8080/"
        },
        "outputId": "8d816348-6f40-4923-d8d0-abc56e745249"
      },
      "outputs": [
        {
          "output_type": "stream",
          "name": "stdout",
          "text": [
            "+-----+------+-----------+---------+---------+-----+-----+----+----+----------+----------+-------+-------+----------+\n",
            "|sport|dsport|        dur|    Sload|    Dload|Spkts|Dpkts|swin|dwin|     stcpb|     dtcpb|smeansz|dmeansz|attack_cat|\n",
            "+-----+------+-----------+---------+---------+-----+-----+----+----+----------+----------+-------+-------+----------+\n",
            "|56716|   143| 0.82546002| 75090.25|156111.73|  122|  126| 255| 255|2751097753|2748686736|     64|    129|      null|\n",
            "|43467| 49729|   0.101815|328438.84|5087030.5|   72|   74| 255| 255| 961515433|3225510659|     59|    887|      null|\n",
            "|41289|  9574|0.044002999|488693.97|5181101.5|   44|   48| 255| 255|3291096757|1191410228|     63|    606|      null|\n",
            "|43785|  6881|  2.7908299|29863.518|1130840.8|  180|  320| 255| 255|3934392726|3961690324|     58|   1237|      null|\n",
            "|40691|  6881|  2.6335001|40381.238|1661560.6|  232|  438| 255| 255|   1518931|  18267719|     58|   1252|      null|\n",
            "+-----+------+-----------+---------+---------+-----+-----+----+----+----------+----------+-------+-------+----------+\n",
            "only showing top 5 rows\n",
            "\n"
          ]
        }
      ],
      "source": [
        "multi_classify_datasheets.show(5)"
      ]
    },
    {
      "cell_type": "code",
      "execution_count": 43,
      "metadata": {
        "id": "4lKNGjVLVajg",
        "colab": {
          "base_uri": "https://localhost:8080/"
        },
        "outputId": "f9670a94-0f8b-47a6-df42-5818849960e1"
      },
      "outputs": [
        {
          "output_type": "stream",
          "name": "stdout",
          "text": [
            "+-------+----------+\n",
            "|summary|attack_cat|\n",
            "+-------+----------+\n",
            "|  count|    321283|\n",
            "|   mean|      null|\n",
            "| stddev|      null|\n",
            "|    min|  Analysis|\n",
            "|    max|     Worms|\n",
            "+-------+----------+\n",
            "\n"
          ]
        }
      ],
      "source": [
        "#attack_cat column descriptive stastics\n",
        "multi_classify_datasheets.select(\"attack_cat\").describe().show()"
      ]
    },
    {
      "cell_type": "code",
      "execution_count": 44,
      "metadata": {
        "id": "AoTTd4gyVdQg",
        "colab": {
          "base_uri": "https://localhost:8080/"
        },
        "outputId": "15507c04-9032-47a0-db3c-ef166ccfb4c2"
      },
      "outputs": [
        {
          "output_type": "stream",
          "name": "stdout",
          "text": [
            "+---------------+-------+\n",
            "|     attack_cat|  count|\n",
            "+---------------+-------+\n",
            "|          Worms|    174|\n",
            "|           null|2218456|\n",
            "|       Analysis|   2677|\n",
            "|     Shellcode |   1288|\n",
            "|            DoS|  16353|\n",
            "|Reconnaissance |  12228|\n",
            "|       Backdoor|   1795|\n",
            "|       Fuzzers |  19195|\n",
            "|       Exploits|  44525|\n",
            "|        Generic| 215481|\n",
            "|      Shellcode|    223|\n",
            "|      Backdoors|    534|\n",
            "|        Fuzzers|   5051|\n",
            "| Reconnaissance|   1759|\n",
            "+---------------+-------+\n",
            "\n"
          ]
        }
      ],
      "source": [
        "#counting the different number of attacks in the attack_cat column\n",
        "multi_classify_datasheets.groupBy(\"attack_cat\").count().show()"
      ]
    },
    {
      "cell_type": "markdown",
      "metadata": {
        "id": "dw9eNR2qVigS"
      },
      "source": [
        "# **2.1 Data Preprocessing**"
      ]
    },
    {
      "cell_type": "code",
      "execution_count": 45,
      "metadata": {
        "id": "UjVbQT4uVfue",
        "colab": {
          "base_uri": "https://localhost:8080/"
        },
        "outputId": "bf2c40c1-2f23-4537-9867-c5b95cf3564f"
      },
      "outputs": [
        {
          "output_type": "stream",
          "name": "stdout",
          "text": [
            "+-----+------+---+-----+-----+-----+-----+----+----+-----+-----+-------+-------+----------+\n",
            "|sport|dsport|dur|Sload|Dload|Spkts|Dpkts|swin|dwin|stcpb|dtcpb|smeansz|dmeansz|attack_cat|\n",
            "+-----+------+---+-----+-----+-----+-----+----+----+-----+-----+-------+-------+----------+\n",
            "|    0|     0|  0|    0|    0|    0|    0|   0|   0|    0|    0|      0|      0|   2218456|\n",
            "+-----+------+---+-----+-----+-----+-----+----+----+-----+-----+-------+-------+----------+\n",
            "\n"
          ]
        }
      ],
      "source": [
        "#Checking Null and Nan Values in our datasheets\n",
        "from pyspark.sql.functions import col,isnan, when, count\n",
        "multi_classify_datasheets.select([count(when(isnan(c) | col(c).isNull(), c)).alias(c) for c in multi_classify_datasheets.columns]).show()"
      ]
    },
    {
      "cell_type": "code",
      "execution_count": 46,
      "metadata": {
        "id": "1e_oJNDTVp7t"
      },
      "outputs": [],
      "source": [
        "#In the attack column,null is considered as one of the type.But null is not the types of attacks. So we need to modify the null into 0 to develop a machine learning models.\n",
        "multi_classify_datasheets = multi_classify_datasheets.fillna(\"0\")"
      ]
    },
    {
      "cell_type": "code",
      "execution_count": 47,
      "metadata": {
        "id": "94FnZvuUVsjs",
        "colab": {
          "base_uri": "https://localhost:8080/"
        },
        "outputId": "887f49dd-e5ba-43a5-8a23-af3e12c169d3"
      },
      "outputs": [
        {
          "output_type": "stream",
          "name": "stdout",
          "text": [
            "+-----+------+-----------+---------+---------+-----+-----+----+----+----------+----------+-------+-------+----------+\n",
            "|sport|dsport|        dur|    Sload|    Dload|Spkts|Dpkts|swin|dwin|     stcpb|     dtcpb|smeansz|dmeansz|attack_cat|\n",
            "+-----+------+-----------+---------+---------+-----+-----+----+----+----------+----------+-------+-------+----------+\n",
            "|56716|   143| 0.82546002| 75090.25|156111.73|  122|  126| 255| 255|2751097753|2748686736|     64|    129|         0|\n",
            "|43467| 49729|   0.101815|328438.84|5087030.5|   72|   74| 255| 255| 961515433|3225510659|     59|    887|         0|\n",
            "|41289|  9574|0.044002999|488693.97|5181101.5|   44|   48| 255| 255|3291096757|1191410228|     63|    606|         0|\n",
            "|43785|  6881|  2.7908299|29863.518|1130840.8|  180|  320| 255| 255|3934392726|3961690324|     58|   1237|         0|\n",
            "|40691|  6881|  2.6335001|40381.238|1661560.6|  232|  438| 255| 255|   1518931|  18267719|     58|   1252|         0|\n",
            "+-----+------+-----------+---------+---------+-----+-----+----+----+----------+----------+-------+-------+----------+\n",
            "only showing top 5 rows\n",
            "\n"
          ]
        }
      ],
      "source": [
        "multi_classify_datasheets.show(5)"
      ]
    },
    {
      "cell_type": "code",
      "execution_count": 48,
      "metadata": {
        "id": "qtyjSELIVuz0"
      },
      "outputs": [],
      "source": [
        "#There are 9 types of attacks occurred \n",
        "#Hence same number of attacks like shellcode,Reconnaissance,Fuzzers,Backdoors repeated twice with slight difference\n",
        "#We have to modify the attacks names\n",
        "from pyspark.sql.functions import when,col\n",
        "from pyspark.sql import functions as F\n",
        "modify_attack_cat_column = (F.when(F.col('attack_cat') == \"Shellcode \",\"Shellcode\").otherwise(F.col('attack_cat')))\n",
        "multi_classify_datasheets = multi_classify_datasheets.withColumn('attack_cat', modify_attack_cat_column)\n",
        "modify_attack_cat_column = (F.when(F.col('attack_cat') == \"Reconnaissance \",\"Reconnaissance\").otherwise(F.col('attack_cat')))\n",
        "multi_classify_datasheets = multi_classify_datasheets.withColumn('attack_cat', modify_attack_cat_column)\n",
        "modify_attack_cat_column = (F.when(F.col('attack_cat') == \"Backdoor\",\"Backdoors\").otherwise(F.col('attack_cat')))\n",
        "multi_classify_datasheets = multi_classify_datasheets.withColumn('attack_cat', modify_attack_cat_column)\n",
        "modify_attack_cat_column = (F.when(F.col('attack_cat') == \"Fuzzers \",\"Fuzzers\").otherwise(F.col('attack_cat')))\n",
        "multi_classify_datasheets = multi_classify_datasheets.withColumn('attack_cat', modify_attack_cat_column)"
      ]
    },
    {
      "cell_type": "code",
      "execution_count": 49,
      "metadata": {
        "id": "RI2qmU3wVyv4",
        "colab": {
          "base_uri": "https://localhost:8080/"
        },
        "outputId": "97ba0c35-4a0c-4474-ece6-da7c0ad5d91d"
      },
      "outputs": [
        {
          "output_type": "stream",
          "name": "stdout",
          "text": [
            "+--------------+-------+\n",
            "|    attack_cat|  count|\n",
            "+--------------+-------+\n",
            "|         Worms|    174|\n",
            "|             0|2218456|\n",
            "|     Shellcode|   1511|\n",
            "|     Backdoors|   2329|\n",
            "|       Fuzzers|  24246|\n",
            "|      Analysis|   2677|\n",
            "|           DoS|  16353|\n",
            "|Reconnaissance|  13987|\n",
            "|      Exploits|  44525|\n",
            "|       Generic| 215481|\n",
            "+--------------+-------+\n",
            "\n"
          ]
        }
      ],
      "source": [
        "multi_classify_datasheets.groupBy(\"attack_cat\").count().show()"
      ]
    },
    {
      "cell_type": "markdown",
      "metadata": {
        "id": "a0vmWWh1V4NA"
      },
      "source": [
        "# **2.2 Vector Assembler**"
      ]
    },
    {
      "cell_type": "code",
      "execution_count": 50,
      "metadata": {
        "id": "TB-k3QHhV1iQ"
      },
      "outputs": [],
      "source": [
        "#Hence our target column is to be the attack_cat column. so we have to remove it from the dataframe\n",
        "#Lets assume our multi_classify_dataset columns into the list\n",
        "list = multi_classify_datasheets.columns\n",
        "list.remove(\"attack_cat\")"
      ]
    },
    {
      "cell_type": "code",
      "execution_count": 51,
      "metadata": {
        "id": "NF5frviWV96N"
      },
      "outputs": [],
      "source": [
        "#Using vector assembler we can combine all values into a single vector column\n",
        "from pyspark.ml.feature import VectorAssembler\n",
        "assembled = VectorAssembler(inputCols=list,outputCol=\"features_vector\")\n",
        "final_multi_classify_datasheets = assembled.transform(multi_classify_datasheets)"
      ]
    },
    {
      "cell_type": "code",
      "execution_count": 52,
      "metadata": {
        "id": "hPl6h192WBGQ",
        "colab": {
          "base_uri": "https://localhost:8080/"
        },
        "outputId": "96938488-25d6-4b06-f687-7f37fe011cab"
      },
      "outputs": [
        {
          "output_type": "stream",
          "name": "stdout",
          "text": [
            "+--------------------------------------------------------------------------------------------------------------+\n",
            "|features_vector                                                                                               |\n",
            "+--------------------------------------------------------------------------------------------------------------+\n",
            "|[56716.0,143.0,0.82546002,75090.25,156111.73,122.0,126.0,255.0,255.0,2.751097753E9,2.748686736E9,64.0,129.0]  |\n",
            "|[43467.0,49729.0,0.101815,328438.84,5087030.5,72.0,74.0,255.0,255.0,9.61515433E8,3.225510659E9,59.0,887.0]    |\n",
            "|[41289.0,9574.0,0.044002999,488693.97,5181101.5,44.0,48.0,255.0,255.0,3.291096757E9,1.191410228E9,63.0,606.0] |\n",
            "|[43785.0,6881.0,2.7908299,29863.518,1130840.8,180.0,320.0,255.0,255.0,3.934392726E9,3.961690324E9,58.0,1237.0]|\n",
            "|[40691.0,6881.0,2.6335001,40381.238,1661560.6,232.0,438.0,255.0,255.0,1518931.0,1.8267719E7,58.0,1252.0]      |\n",
            "+--------------------------------------------------------------------------------------------------------------+\n",
            "only showing top 5 rows\n",
            "\n"
          ]
        }
      ],
      "source": [
        "final_multi_classify_datasheets.select(\"features_vector\").show(5,truncate=False)"
      ]
    },
    {
      "cell_type": "code",
      "execution_count": 53,
      "metadata": {
        "id": "lPd4PJNEWD_w",
        "colab": {
          "base_uri": "https://localhost:8080/"
        },
        "outputId": "872c7554-bce9-4144-a398-d899b52f5e8c"
      },
      "outputs": [
        {
          "output_type": "stream",
          "name": "stdout",
          "text": [
            "+----------+--------------------+\n",
            "|attack_cat|     features_vector|\n",
            "+----------+--------------------+\n",
            "|         0|[56716.0,143.0,0....|\n",
            "|         0|[43467.0,49729.0,...|\n",
            "|         0|[41289.0,9574.0,0...|\n",
            "|         0|[43785.0,6881.0,2...|\n",
            "|         0|[40691.0,6881.0,2...|\n",
            "+----------+--------------------+\n",
            "only showing top 5 rows\n",
            "\n"
          ]
        }
      ],
      "source": [
        "#We have combined all values in a single vector\n",
        "#So we can remove the unnecessary columns from the dataframe\n",
        "multi_classify_datasheets = final_multi_classify_datasheets.drop(\"sport\",\"dsport\",\"dur\",\"Sload\",\"Dload\",\"Spkts\",\"Dpkts\",\"swin\",\"dwin\",\"stcpb\",\"dtcpb\",\"smeansz\",\"dmeansz\")\n",
        "multi_classify_datasheets.show(5)"
      ]
    },
    {
      "cell_type": "markdown",
      "metadata": {
        "id": "ft6ZI08kWKYs"
      },
      "source": [
        "# **2.3 String Indexer**"
      ]
    },
    {
      "cell_type": "code",
      "execution_count": 54,
      "metadata": {
        "id": "blQ-n-XgWHXJ"
      },
      "outputs": [],
      "source": [
        "#Attack_cat column is of string type , so we have to convert the string type using stringindexer to perform the machine learning models\n",
        "from pyspark.ml.feature import StringIndexer\n",
        "indexing = StringIndexer(inputCol=\"attack_cat\",outputCol=\"target_column\")\n",
        "multi_classify_datasheets = indexing.fit(multi_classify_datasheets).transform(multi_classify_datasheets)"
      ]
    },
    {
      "cell_type": "code",
      "execution_count": 55,
      "metadata": {
        "id": "vvWmyDDtWREq",
        "colab": {
          "base_uri": "https://localhost:8080/"
        },
        "outputId": "09e5239d-47c8-4f2b-9cb4-19583b0dc10a"
      },
      "outputs": [
        {
          "output_type": "stream",
          "name": "stdout",
          "text": [
            "+--------------+-------------+\n",
            "|    attack_cat|target_column|\n",
            "+--------------+-------------+\n",
            "|       Fuzzers|          3.0|\n",
            "|           DoS|          4.0|\n",
            "|     Shellcode|          8.0|\n",
            "|       Generic|          1.0|\n",
            "|         Worms|          9.0|\n",
            "|Reconnaissance|          5.0|\n",
            "|             0|          0.0|\n",
            "|      Exploits|          2.0|\n",
            "|     Backdoors|          7.0|\n",
            "|      Analysis|          6.0|\n",
            "+--------------+-------------+\n",
            "\n"
          ]
        }
      ],
      "source": [
        "multi_classify_datasheets.select('attack_cat','target_column').distinct().show()"
      ]
    },
    {
      "cell_type": "code",
      "execution_count": 56,
      "metadata": {
        "id": "lgeWgogFWTpZ"
      },
      "outputs": [],
      "source": [
        "#Visualizing the distinct values of attack_cat\n",
        "distinct_values = multi_classify_datasheets.toPandas()"
      ]
    },
    {
      "cell_type": "code",
      "execution_count": 57,
      "metadata": {
        "id": "TV1I8u22WWMB",
        "colab": {
          "base_uri": "https://localhost:8080/",
          "height": 298
        },
        "outputId": "2538fb7d-bc0a-443d-81c2-fa6f85b0dbb5"
      },
      "outputs": [
        {
          "output_type": "execute_result",
          "data": {
            "text/plain": [
              "<matplotlib.axes._subplots.AxesSubplot at 0x7f51feaad6a0>"
            ]
          },
          "metadata": {},
          "execution_count": 57
        },
        {
          "output_type": "display_data",
          "data": {
            "text/plain": [
              "<Figure size 432x288 with 1 Axes>"
            ],
            "image/png": "[encoded data removed]"
          },
          "metadata": {
            "needs_background": "light"
          }
        }
      ],
      "source": [
        "#Using Seaborn\n",
        "import seaborn as sns\n",
        "sns.barplot(x='target_column',y='attack_cat',data=distinct_values)"
      ]
    },
    {
      "cell_type": "code",
      "execution_count": 58,
      "metadata": {
        "id": "9Q_sX4F8WaAl",
        "colab": {
          "base_uri": "https://localhost:8080/"
        },
        "outputId": "935a9191-75a9-49ce-f686-ed68f2901d61"
      },
      "outputs": [
        {
          "output_type": "stream",
          "name": "stdout",
          "text": [
            "+----------+--------------------+-------------+\n",
            "|attack_cat|     features_vector|target_column|\n",
            "+----------+--------------------+-------------+\n",
            "|         0|[56716.0,143.0,0....|          0.0|\n",
            "|         0|[43467.0,49729.0,...|          0.0|\n",
            "|         0|[41289.0,9574.0,0...|          0.0|\n",
            "|         0|[43785.0,6881.0,2...|          0.0|\n",
            "|         0|[40691.0,6881.0,2...|          0.0|\n",
            "+----------+--------------------+-------------+\n",
            "only showing top 5 rows\n",
            "\n"
          ]
        }
      ],
      "source": [
        "multi_classify_datasheets.show(5)"
      ]
    },
    {
      "cell_type": "markdown",
      "metadata": {
        "id": "lG_aHy8lWf7x"
      },
      "source": [
        "# **2.4 Train & Test DataSheets**"
      ]
    },
    {
      "cell_type": "code",
      "execution_count": 59,
      "metadata": {
        "id": "TF2fmFvwWdLA"
      },
      "outputs": [],
      "source": [
        "#Divide the data into test and train.\n",
        "train_datasheets, test_datasheets = multi_classify_datasheets.randomSplit([0.7, 0.3], seed=12345)"
      ]
    },
    {
      "cell_type": "markdown",
      "metadata": {
        "id": "V_K44t5SWnpt"
      },
      "source": [
        "# **2.5 Using NaiveBayes Classifier**"
      ]
    },
    {
      "cell_type": "code",
      "execution_count": 60,
      "metadata": {
        "id": "cj49F-agWlZ5",
        "colab": {
          "base_uri": "https://localhost:8080/"
        },
        "outputId": "f929f377-888b-493b-b6eb-ba178a031212"
      },
      "outputs": [
        {
          "output_type": "stream",
          "name": "stdout",
          "text": [
            "+----------+--------------------+-------------+--------------------+--------------------+----------+\n",
            "|attack_cat|     features_vector|target_column|       rawPrediction|         probability|prediction|\n",
            "+----------+--------------------+-------------+--------------------+--------------------+----------+\n",
            "|         0|(13,[0,1,2,3,5,7,...|          0.0|[-2.0744815823742...|[0.0,1.0,0.0,0.0,...|       1.0|\n",
            "|         0|(13,[0,1,2,3,5,7,...|          0.0|[-1.8423677438330...|[0.0,1.0,0.0,0.0,...|       1.0|\n",
            "|         0|(13,[0,1,2,3,5,7,...|          0.0|[-4.1392588525432...|[0.0,1.0,0.0,0.0,...|       1.0|\n",
            "|         0|(13,[0,1,2,3,5,7,...|          0.0|[-402788.44391964...|[0.0,0.0,0.0,0.0,...|       8.0|\n",
            "|         0|(13,[0,1,2,3,5,7,...|          0.0|[-649991.46787476...|[0.0,0.0,0.0,0.0,...|       8.0|\n",
            "+----------+--------------------+-------------+--------------------+--------------------+----------+\n",
            "only showing top 5 rows\n",
            "\n"
          ]
        }
      ],
      "source": [
        "from pyspark.ml.classification import NaiveBayes\n",
        "nbayes = NaiveBayes(featuresCol=\"features_vector\",labelCol=\"target_column\", smoothing=1.0, modelType=\"multinomial\")\n",
        "nbayes_model = nbayes.fit(train_datasheets)\n",
        "nb_predictions = nbayes_model.transform(test_datasheets)\n",
        "nb_predictions.show(5)"
      ]
    },
    {
      "cell_type": "markdown",
      "metadata": {
        "id": "lWU5uCfIWy7N"
      },
      "source": [
        "# **2.5.1 Evaluation**"
      ]
    },
    {
      "cell_type": "code",
      "execution_count": 61,
      "metadata": {
        "id": "_gkdoezcWuRh",
        "colab": {
          "base_uri": "https://localhost:8080/"
        },
        "outputId": "804b1c3d-83ef-4cac-83b7-f57f995532fd"
      },
      "outputs": [
        {
          "output_type": "stream",
          "name": "stdout",
          "text": [
            "The Accuracy of the model is : 0.7765557908223208\n"
          ]
        }
      ],
      "source": [
        "#Evaluating the model\n",
        "from pyspark.ml.evaluation import MulticlassClassificationEvaluator\n",
        "evaluation_nb = MulticlassClassificationEvaluator(labelCol=\"target_column\", predictionCol=\"prediction\",metricName=\"accuracy\")\n",
        "accuracy = evaluation_nb.evaluate(nb_predictions)\n",
        "print(\"The Accuracy of the model is :\",accuracy)"
      ]
    },
    {
      "cell_type": "markdown",
      "metadata": {
        "id": "O1FpfAOVW-e4"
      },
      "source": [
        "# **2.6 Ensembling-Bagging Using Random Forest Classifier**"
      ]
    },
    {
      "cell_type": "code",
      "execution_count": 62,
      "metadata": {
        "id": "QLOaessmW4IA",
        "colab": {
          "base_uri": "https://localhost:8080/"
        },
        "outputId": "3de00f96-1941-4ca6-94f3-6d3d7218b3a5"
      },
      "outputs": [
        {
          "output_type": "stream",
          "name": "stdout",
          "text": [
            "+----------+--------------------+-------------+--------------------+--------------------+----------+\n",
            "|attack_cat|     features_vector|target_column|       rawPrediction|         probability|prediction|\n",
            "+----------+--------------------+-------------+--------------------+--------------------+----------+\n",
            "|         0|(13,[0,1,2,3,5,7,...|          0.0|[5.94678033744661...|[0.59467803374466...|       0.0|\n",
            "|         0|(13,[0,1,2,3,5,7,...|          0.0|[5.83295340523299...|[0.58329534052329...|       0.0|\n",
            "|         0|(13,[0,1,2,3,5,7,...|          0.0|[5.30492680253350...|[0.53049268025335...|       0.0|\n",
            "|         0|(13,[0,1,2,3,5,7,...|          0.0|[7.59514623809295...|[0.75951462380929...|       0.0|\n",
            "|         0|(13,[0,1,2,3,5,7,...|          0.0|[7.59514623809295...|[0.75951462380929...|       0.0|\n",
            "+----------+--------------------+-------------+--------------------+--------------------+----------+\n",
            "only showing top 5 rows\n",
            "\n"
          ]
        }
      ],
      "source": [
        "#Bagging method\n",
        "from pyspark.ml.classification import RandomForestClassifier\n",
        "random_ft = RandomForestClassifier(featuresCol='features_vector',labelCol='target_column',numTrees=10)\n",
        "random_ft_model = random_ft.fit(train_datasheets)\n",
        "rft_predictions = random_ft_model.transform(test_datasheets)\n",
        "rft_predictions.show(5)"
      ]
    },
    {
      "cell_type": "markdown",
      "metadata": {
        "id": "JMzRXYI3XGE5"
      },
      "source": [
        "# **2.6.1 Evaluation**"
      ]
    },
    {
      "cell_type": "code",
      "execution_count": 63,
      "metadata": {
        "id": "O0C7lCqoXEAg",
        "colab": {
          "base_uri": "https://localhost:8080/"
        },
        "outputId": "f376c2d0-d1c2-4a2c-f5d3-c2d38fe4afbd"
      },
      "outputs": [
        {
          "output_type": "stream",
          "name": "stdout",
          "text": [
            "The Accuracy of the model after bagging is:  0.9499300017460022\n"
          ]
        }
      ],
      "source": [
        "#Evaluating the model\n",
        "from pyspark.ml.evaluation import MulticlassClassificationEvaluator\n",
        "evaluation_rft = MulticlassClassificationEvaluator(labelCol=\"target_column\", predictionCol=\"prediction\")\n",
        "accuracy = evaluation_rft.evaluate(rft_predictions)\n",
        "print(\"The Accuracy of the model after bagging is: \",accuracy)"
      ]
    },
    {
      "cell_type": "code",
      "execution_count": 64,
      "metadata": {
        "id": "lTnyl77FXMJ9"
      },
      "outputs": [],
      "source": [
        "#Since we have applied bagging method and the results clearly shows the accuracy performance was heightened"
      ]
    },
    {
      "cell_type": "markdown",
      "metadata": {
        "id": "DA-3X7CUXaKN"
      },
      "source": [
        "# **Evaluating the MultiClass Model**"
      ]
    },
    {
      "cell_type": "code",
      "execution_count": 65,
      "metadata": {
        "id": "YsLDV_DBXRBh",
        "colab": {
          "base_uri": "https://localhost:8080/"
        },
        "outputId": "829d3909-1996-4496-ac38-721d9901b23b"
      },
      "outputs": [
        {
          "output_type": "stream",
          "name": "stderr",
          "text": [
            "/usr/local/lib/python3.8/dist-packages/pyspark/sql/context.py:157: FutureWarning: Deprecated in 3.0.0. Use SparkSession.builder.getOrCreate() instead.\n",
            "  warnings.warn(\n"
          ]
        }
      ],
      "source": [
        "#Evaluation for naivebayes classifier\n",
        "from pyspark.mllib.evaluation import MulticlassMetrics\n",
        "naivebayes_metric = MulticlassMetrics(nb_predictions['target_column','prediction'].rdd)"
      ]
    },
    {
      "cell_type": "code",
      "execution_count": 66,
      "metadata": {
        "id": "hLzFQmyNXhH_",
        "colab": {
          "base_uri": "https://localhost:8080/"
        },
        "outputId": "5d708649-468d-48c6-a24e-82757174345c"
      },
      "outputs": [
        {
          "output_type": "stream",
          "name": "stdout",
          "text": [
            "Accuracy: 0.7765557908223208\n",
            "Precision: 0.9857613117605043\n",
            "Recall: 0.31697014783785266\n",
            "F1Score: 0.479695038328\n"
          ]
        }
      ],
      "source": [
        "print(\"Accuracy:\",naivebayes_metric.accuracy)\n",
        "print(\"Precision:\",naivebayes_metric.precision(1.0))\n",
        "print(\"Recall:\",naivebayes_metric.recall(1.0))\n",
        "print(\"F1Score:\",naivebayes_metric.fMeasure(1.0))"
      ]
    },
    {
      "cell_type": "markdown",
      "metadata": {
        "id": "T4ovaeiQXoQJ"
      },
      "source": [
        "# **Measurements for Naive Bayes Classifier**"
      ]
    },
    {
      "cell_type": "code",
      "execution_count": 67,
      "metadata": {
        "id": "zqVsCICFXkCz"
      },
      "outputs": [],
      "source": [
        "#Measurements of the model for Naive bayes Classifier\n",
        "actual = nb_predictions.select(['target_column']).collect()\n",
        "predicted = nb_predictions.select(['prediction']).collect()"
      ]
    },
    {
      "cell_type": "markdown",
      "metadata": {
        "id": "qxejypB3Xvb1"
      },
      "source": [
        "# **Classification Report for Naive Bayes Classifier**"
      ]
    },
    {
      "cell_type": "code",
      "execution_count": 68,
      "metadata": {
        "id": "eb9vD9acXsw3",
        "colab": {
          "base_uri": "https://localhost:8080/"
        },
        "outputId": "f11a268e-c6a7-49fb-ac18-22559a1e5054"
      },
      "outputs": [
        {
          "output_type": "stream",
          "name": "stderr",
          "text": [
            "/usr/local/lib/python3.8/dist-packages/sklearn/metrics/_classification.py:1318: UndefinedMetricWarning: Precision and F-score are ill-defined and being set to 0.0 in labels with no predicted samples. Use `zero_division` parameter to control this behavior.\n",
            "  _warn_prf(average, modifier, msg_start, len(result))\n",
            "/usr/local/lib/python3.8/dist-packages/sklearn/metrics/_classification.py:1318: UndefinedMetricWarning: Precision and F-score are ill-defined and being set to 0.0 in labels with no predicted samples. Use `zero_division` parameter to control this behavior.\n",
            "  _warn_prf(average, modifier, msg_start, len(result))\n"
          ]
        },
        {
          "output_type": "stream",
          "name": "stdout",
          "text": [
            "              precision    recall  f1-score   support\n",
            "\n",
            "         0.0       0.97      0.79      0.87    665469\n",
            "         1.0       0.32      0.99      0.48     64402\n",
            "         2.0       0.00      0.00      0.00     13297\n",
            "         3.0       0.00      0.00      0.00      7394\n",
            "         4.0       0.00      0.00      0.00      4951\n",
            "         5.0       0.00      0.00      0.00      4250\n",
            "         6.0       0.00      0.00      0.00       842\n",
            "         7.0       0.00      0.00      0.00       695\n",
            "         8.0       0.00      0.00      0.00       439\n",
            "         9.0       0.00      0.16      0.00        44\n",
            "\n",
            "    accuracy                           0.78    761783\n",
            "   macro avg       0.13      0.19      0.14    761783\n",
            "weighted avg       0.87      0.78      0.80    761783\n",
            "\n"
          ]
        },
        {
          "output_type": "stream",
          "name": "stderr",
          "text": [
            "/usr/local/lib/python3.8/dist-packages/sklearn/metrics/_classification.py:1318: UndefinedMetricWarning: Precision and F-score are ill-defined and being set to 0.0 in labels with no predicted samples. Use `zero_division` parameter to control this behavior.\n",
            "  _warn_prf(average, modifier, msg_start, len(result))\n"
          ]
        }
      ],
      "source": [
        "from sklearn.metrics import classification_report, confusion_matrix\n",
        "print(classification_report(actual, predicted))"
      ]
    },
    {
      "cell_type": "markdown",
      "metadata": {
        "id": "NTQPelCqX3_F"
      },
      "source": [
        "# **After bagging**"
      ]
    },
    {
      "cell_type": "code",
      "execution_count": 69,
      "metadata": {
        "id": "DsUF5OXiX1LM",
        "colab": {
          "base_uri": "https://localhost:8080/"
        },
        "outputId": "ffbf52cd-cfff-4319-e667-6386acfc5673"
      },
      "outputs": [
        {
          "output_type": "stream",
          "name": "stderr",
          "text": [
            "/usr/local/lib/python3.8/dist-packages/pyspark/sql/context.py:157: FutureWarning: Deprecated in 3.0.0. Use SparkSession.builder.getOrCreate() instead.\n",
            "  warnings.warn(\n"
          ]
        }
      ],
      "source": [
        "#Evaluation for Random forest classifier\n",
        "from pyspark.mllib.evaluation import MulticlassMetrics\n",
        "randomft_metric = MulticlassMetrics(rft_predictions['target_column','prediction'].rdd)"
      ]
    },
    {
      "cell_type": "code",
      "execution_count": 70,
      "metadata": {
        "id": "a6CDDEtYX-FA",
        "colab": {
          "base_uri": "https://localhost:8080/"
        },
        "outputId": "cfdee5c2-7003-4470-b9ac-cc314b4ccc87"
      },
      "outputs": [
        {
          "output_type": "stream",
          "name": "stdout",
          "text": [
            "Accuracy: 0.9624551873696315\n",
            "Precision: 0.9741312381603056\n",
            "Recall: 0.9882953417665685\n",
            "F1Score: 0.9811621742088348\n"
          ]
        }
      ],
      "source": [
        "print(\"Accuracy:\",randomft_metric.accuracy)\n",
        "print(\"Precision:\",randomft_metric.precision(1.0))\n",
        "print(\"Recall:\",randomft_metric.recall(1.0))\n",
        "print(\"F1Score:\",randomft_metric.fMeasure(1.0))"
      ]
    },
    {
      "cell_type": "markdown",
      "metadata": {
        "id": "y9MRlfWiYDuw"
      },
      "source": [
        "# **Measurements for Random Forest Classifier**"
      ]
    },
    {
      "cell_type": "code",
      "execution_count": 71,
      "metadata": {
        "id": "FaU1a7HNYA9w"
      },
      "outputs": [],
      "source": [
        "#Measurements of the model for Random Forest Classifier\n",
        "actual = rft_predictions.select(['target_column']).collect()\n",
        "predicted = rft_predictions.select(['prediction']).collect()"
      ]
    },
    {
      "cell_type": "markdown",
      "metadata": {
        "id": "jE7ixxHhYKqM"
      },
      "source": [
        "# **Classification Report for Random Forest Classifier**"
      ]
    },
    {
      "cell_type": "code",
      "execution_count": 72,
      "metadata": {
        "id": "MtnqCEoDYIO4",
        "colab": {
          "base_uri": "https://localhost:8080/"
        },
        "outputId": "0d0a5a44-3c09-4291-e5c8-b5607d589492"
      },
      "outputs": [
        {
          "output_type": "stream",
          "name": "stderr",
          "text": [
            "/usr/local/lib/python3.8/dist-packages/sklearn/metrics/_classification.py:1318: UndefinedMetricWarning: Precision and F-score are ill-defined and being set to 0.0 in labels with no predicted samples. Use `zero_division` parameter to control this behavior.\n",
            "  _warn_prf(average, modifier, msg_start, len(result))\n",
            "/usr/local/lib/python3.8/dist-packages/sklearn/metrics/_classification.py:1318: UndefinedMetricWarning: Precision and F-score are ill-defined and being set to 0.0 in labels with no predicted samples. Use `zero_division` parameter to control this behavior.\n",
            "  _warn_prf(average, modifier, msg_start, len(result))\n"
          ]
        },
        {
          "output_type": "stream",
          "name": "stdout",
          "text": [
            "              precision    recall  f1-score   support\n",
            "\n",
            "         0.0       0.97      1.00      0.98    665469\n",
            "         1.0       0.99      0.97      0.98     64402\n",
            "         2.0       0.45      0.40      0.42     13297\n",
            "         3.0       1.00      0.00      0.00      7394\n",
            "         4.0       0.00      0.00      0.00      4951\n",
            "         5.0       0.00      0.00      0.00      4250\n",
            "         6.0       0.00      0.00      0.00       842\n",
            "         7.0       0.00      0.00      0.00       695\n",
            "         8.0       0.00      0.00      0.00       439\n",
            "         9.0       0.00      0.00      0.00        44\n",
            "\n",
            "    accuracy                           0.96    761783\n",
            "   macro avg       0.34      0.24      0.24    761783\n",
            "weighted avg       0.95      0.96      0.95    761783\n",
            "\n"
          ]
        },
        {
          "output_type": "stream",
          "name": "stderr",
          "text": [
            "/usr/local/lib/python3.8/dist-packages/sklearn/metrics/_classification.py:1318: UndefinedMetricWarning: Precision and F-score are ill-defined and being set to 0.0 in labels with no predicted samples. Use `zero_division` parameter to control this behavior.\n",
            "  _warn_prf(average, modifier, msg_start, len(result))\n"
          ]
        }
      ],
      "source": [
        "from sklearn.metrics import classification_report, confusion_matrix\n",
        "print(classification_report(actual, predicted))"
      ]
    },
    {
      "cell_type": "markdown",
      "source": [
        "**Hence we applied Machine Learning algorithms for binary and multi class classification using pyspark coding.**"
      ],
      "metadata": {
        "id": "2FeJipItkSji"
      }
    }
  ],
  "metadata": {
    "colab": {
      "provenance": []
    },
    "kernelspec": {
      "display_name": "Python 3",
      "name": "python3"
    },
    "language_info": {
      "name": "python"
    }
  },
  "nbformat": 4,
  "nbformat_minor": 0
}